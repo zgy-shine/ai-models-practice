{
 "cells": [
  {
   "cell_type": "code",
   "execution_count": 1,
   "id": "090ded21-853e-4065-9835-b932eac85c0d",
   "metadata": {},
   "outputs": [
    {
     "data": {
      "text/plain": [
       "MultiModalConversationResponse(status_code=<HTTPStatus.OK: 200>, request_id='9d6e0d2e-9d70-9eb4-9ddd-b6c7d6dc2f53', code='', message='', output=MultiModalConversationOutput(choices=[Choice(finish_reason='stop', message=Message({'role': 'assistant', 'content': [{'text': '```json\\n{\\n  \"客户名称\": \"\",\\n  \"客诉日期\": \"\",\\n  \"严重程度\": [\"□一般\", \"□重大\"],\\n  \"联系方式\": \"\",\\n  \"回复时间\": \"\",\\n  \"急紧程度\": [\"□一般\", \"□紧急\"],\\n  \"产品型号\": \"\",\\n  \"生产日期\": {\\n    \"年月\": \"\"\\n  },\\n  \"数量\": [\\n    \"1\"\\n  ],\\n  \"使用年限\": \"不详\",\\n  \"问题产品追综\": [\"□客户处 □物流中 □已回厂\"],\\n  \"客户诉求点\": [\"□退货\", \"□换货\", \"□维修\"],\\n  \"描述人/提报人\": \"2018 年____月____日\",\\n  \"分析人\": \"2018 年__月___日\",\\n  \"原因归属\": [\"口设计\", \"可靠性\", \"品质部\", \"生产部\", \"仓储\", \"运输\", \"其它\"],\\n  \"零时对策建意\": [],\\n  \"对策略方法\": [\"库存产品再检验\", \"退回二级供应商\", \"生产停产纠正\", \"其它\"],\\n  \"改善措施\": [{\\n      \"防止发生对策\":\\n        []\\n    }],\\n  \"要求完成时间\": \"2018 年_ _ __ 日\",\\n  \"进程追踪\": [\"按时完成\", \"延期完成\", \"未完成\"],\\n  \"备注说明\": {}\\n}\\n```\\n请注意，“图例说明”和“改进措施”的具体内容需要根据实际填写的文本进行填充。上述信息是基于提供的表格模板生成的标准结构化数据表示方式，并非真实表单中的具体内容，请依据实际情况调整字段值以匹配具体情况。'}]}))]), usage=MultiModalConversationUsage(input_tokens=1030, output_tokens=350))"
      ]
     },
     "execution_count": 1,
     "metadata": {},
     "output_type": "execute_result"
    }
   ],
   "source": [
    "import json\n",
    "import os\n",
    "import dashscope\n",
    "from dashscope.api_entities.dashscope_response import Role\n",
    "# 从环境变量获取API密钥，避免泄露敏感信息\n",
    "dashscope.api_key = os.getenv(\"DASHSCOPE_API_KEY\")  # 请设置环境变量\n",
    "from openai import OpenAI\n",
    "\n",
    "# 封装模型响应函数\n",
    "def get_response(messages):\n",
    "    response = dashscope.MultiModalConversation.call(\n",
    "        model='qwen-vl-plus',\n",
    "        messages=messages\n",
    "    )\n",
    "    return response\n",
    "\n",
    "content = [\n",
    "    {'image': 'https://aiwucai.oss-cn-huhehaote.aliyuncs.com/pdf_table.jpg'}, # Either a local path or an url\n",
    "    {'text': '这是一个表格图片，帮我提取里面的内容，输出JSON格式'}\n",
    "]\n",
    "\n",
    "messages=[{\"role\": \"user\", \"content\": content}]\n",
    "# 得到响应\n",
    "response = get_response(messages)\n",
    "response"
   ]
  },
  {
   "cell_type": "code",
   "execution_count": 2,
   "id": "3fad5daa-afea-416d-b6e5-cd2ca7464157",
   "metadata": {},
   "outputs": [
    {
     "name": "stdout",
     "output_type": "stream",
     "text": [
      "```json\n",
      "{\n",
      "  \"客户名称\": \"\",\n",
      "  \"客诉日期\": \"\",\n",
      "  \"严重程度\": [\"□一般\", \"□重大\"],\n",
      "  \"联系方式\": \"\",\n",
      "  \"回复时间\": \"\",\n",
      "  \"急紧程度\": [\"□一般\", \"□紧急\"],\n",
      "  \"产品型号\": \"\",\n",
      "  \"生产日期\": {\n",
      "    \"年月\": \"\"\n",
      "  },\n",
      "  \"数量\": [\n",
      "    \"1\"\n",
      "  ],\n",
      "  \"使用年限\": \"不详\",\n",
      "  \"问题产品追综\": [\"□客户处 □物流中 □已回厂\"],\n",
      "  \"客户诉求点\": [\"□退货\", \"□换货\", \"□维修\"],\n",
      "  \"描述人/提报人\": \"2018 年____月____日\",\n",
      "  \"分析人\": \"2018 年__月___日\",\n",
      "  \"原因归属\": [\"口设计\", \"可靠性\", \"品质部\", \"生产部\", \"仓储\", \"运输\", \"其它\"],\n",
      "  \"零时对策建意\": [],\n",
      "  \"对策略方法\": [\"库存产品再检验\", \"退回二级供应商\", \"生产停产纠正\", \"其它\"],\n",
      "  \"改善措施\": [{\n",
      "      \"防止发生对策\":\n",
      "        []\n",
      "    }],\n",
      "  \"要求完成时间\": \"2018 年_ _ __ 日\",\n",
      "  \"进程追踪\": [\"按时完成\", \"延期完成\", \"未完成\"],\n",
      "  \"备注说明\": {}\n",
      "}\n",
      "```\n",
      "请注意，“图例说明”和“改进措施”的具体内容需要根据实际填写的文本进行填充。上述信息是基于提供的表格模板生成的标准结构化数据表示方式，并非真实表单中的具体内容，请依据实际情况调整字段值以匹配具体情况。\n"
     ]
    }
   ],
   "source": [
    "print(response.output.choices[0].message.content[0]['text'])"
   ]
  }
 ],
 "metadata": {
  "kernelspec": {
   "display_name": "deeplearning",
   "language": "python",
   "name": "deeplearning"
  },
  "language_info": {
   "codemirror_mode": {
    "name": "ipython",
    "version": 3
   },
   "file_extension": ".py",
   "mimetype": "text/x-python",
   "name": "python",
   "nbconvert_exporter": "python",
   "pygments_lexer": "ipython3",
   "version": "3.9.21"
  }
 },
 "nbformat": 4,
 "nbformat_minor": 5
}
