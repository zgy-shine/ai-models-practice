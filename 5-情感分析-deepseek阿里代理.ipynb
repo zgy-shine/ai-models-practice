{
 "cells": [
  {
   "cell_type": "code",
   "execution_count": null,
   "id": "0150e3f5-3ad7-47a4-86f3-b6152834e17a",
   "metadata": {},
   "outputs": [],
   "source": [
    "import os\n",
    "import dashscope\n",
    "from dashscope.api_entities.dashscope_response import Role\n",
    "# 从环境变量获取API密钥，避免泄露敏感信息\n",
    "dashscope.api_key = os.getenv(\"DASHSCOPE_API_KEY\")  # 请设置环境变量\n",
    "\n",
    "# 封装模型响应函数\n",
    "def get_response(messages):\n",
    "    response = dashscope.Generation.call(\n",
    "        model='deepseek-r1',  # 使用 deepseek-r1 模型\n",
    "        messages=messages,\n",
    "        result_format='message'  # 将输出设置为message形式\n",
    "    )\n",
    "    return response\n",
    "\n",
    "# 测试对话\n",
    "messages = [\n",
    "    {\"role\": \"system\", \"content\": \"You are a helpful assistant\"},\n",
    "    {\"role\": \"user\", \"content\": \"你好，你是什么大模型？\"}\n",
    "]\n",
    "response = get_response(messages)\n",
    "print(response.output.choices[0].message.content)"
   ]
  }
 ],
 "metadata": {
  "kernelspec": {
   "display_name": "deeplearning",
   "language": "python",
   "name": "deeplearning"
  },
  "language_info": {
   "codemirror_mode": {
    "name": "ipython",
    "version": 3
   },
   "file_extension": ".py",
   "mimetype": "text/x-python",
   "name": "python",
   "nbconvert_exporter": "python",
   "pygments_lexer": "ipython3",
   "version": "3.9.21"
  }
 },
 "nbformat": 4,
 "nbformat_minor": 5
}