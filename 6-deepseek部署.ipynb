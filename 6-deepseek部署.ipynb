{
 "cells": [
  {
   "cell_type": "code",
   "execution_count": 1,
   "id": "44c16b4f-9efe-4f5f-ad63-9d66e9ddec40",
   "metadata": {},
   "outputs": [],
   "source": [
    "import json \n",
    "import os \n",
    "import dashscope\n",
    "from dashscope.api_entities.dashscope_response import Role"
   ]
  },
  {
   "cell_type": "code",
   "execution_count": 2,
   "id": "5f9f7fa1-6c16-481a-ab87-44fc51125875",
   "metadata": {},
   "outputs": [
    {
     "name": "stdout",
     "output_type": "stream",
     "text": [
      "2.5.1\n",
      "True\n"
     ]
    }
   ],
   "source": [
    "import torch\n",
    "print(torch.__version__)              # 应该能输出版本号\n",
    "print(hasattr(torch.nn, 'Module'))    # 应该输出 True\n"
   ]
  },
  {
   "cell_type": "code",
   "execution_count": 3,
   "id": "c4707371-cdf4-4447-ac55-02c3721b5833",
   "metadata": {},
   "outputs": [
    {
     "name": "stdout",
     "output_type": "stream",
     "text": [
      "Downloading Model from https://www.modelscope.cn to directory: /Users/zengguangyun/Desktop/data/大模型课程资料/autodl-tmp/models/deepseek-ai/DeepSeek-R1-Distill-Qwen-1.5B\n"
     ]
    },
    {
     "name": "stderr",
     "output_type": "stream",
     "text": [
      "2025-05-28 16:40:30,952 - modelscope - INFO - Target directory already exists, skipping creation.\n"
     ]
    },
    {
     "name": "stdout",
     "output_type": "stream",
     "text": [
      "模型已下载到：/Users/zengguangyun/Desktop/data/大模型课程资料/autodl-tmp/models/deepseek-ai/DeepSeek-R1-Distill-Qwen-1___5B\n"
     ]
    }
   ],
   "source": [
    "from modelscope import snapshot_download\n",
    "\n",
    "model_dir = snapshot_download(\n",
    "    repo_id='deepseek-ai/DeepSeek-R1-Distill-Qwen-1.5B',        # Hub 上的模型标识\n",
    "    cache_dir='/Users/zengguangyun/Desktop/data/大模型课程资料/autodl-tmp/models'  # 本地存储根目录\n",
    ")\n",
    "print(f\"模型已下载到：{model_dir}\")\n"
   ]
  },
  {
   "cell_type": "code",
   "execution_count": 5,
   "id": "1cd2a3de-90cf-4750-8751-00fad978f070",
   "metadata": {},
   "outputs": [
    {
     "name": "stdout",
     "output_type": "stream",
     "text": [
      "2.5.1\n",
      "True\n"
     ]
    }
   ],
   "source": [
    "import torch\n",
    "print(torch.__version__)                  # 打印版本号\n",
    "print(torch.backends.mps.is_available())  # True 表示能用 MPS\n"
   ]
  },
  {
   "cell_type": "code",
   "execution_count": 6,
   "id": "336b3ae1-f323-4941-bc84-415975a14bf7",
   "metadata": {},
   "outputs": [
    {
     "name": "stderr",
     "output_type": "stream",
     "text": [
      "Setting `pad_token_id` to `eos_token_id`:151643 for open-end generation.\n"
     ]
    },
    {
     "name": "stdout",
     "output_type": "stream",
     "text": [
      "好的，我现在需要帮用户写一个关于二分查找法的解释。首先，我得回顾一下二分查找法的基本概念。二分查找法是一种高效的数据搜索算法，主要用于在有序数组中快速找到目标值。它的时间复杂度是O(log n)，比线性搜索法快很多。\n",
      "\n",
      "接下来，我应该考虑用户可能的需求。用户可能想了解二分查找法的工作原理，包括如何逐步缩小搜索范围，以及它的应用场景。可能用户对编程感兴趣，或者是在学习数据结构和算法，所以需要详细且易懂的解释。\n",
      "\n",
      "我应该先从基本概念开始，解释什么是二分查找法，它需要的条件是什么，比如数组必须是有序的。然后，详细说明每一步的步骤，比如确定左右边界，计算中点，比较目标值和中点值，判断是找左边还是右边，然后调整左右边界，直到找到目标值或者无法继续。\n",
      "\n",
      "可能还需要举一个例子，比如查找数字5在数组中的位置。这样可以让用户更直观地理解过程。同时，可以提到二分查找法的优缺点，比如高效、空间复杂度低，但需要数组有序，这对于不同情况下的应用很重要。\n",
      "\n",
      "最后，总结一下二分查找法的优势，比如快速查找，适用于大量数据，以及可能的应用领域。这样用户可以全面了解该方法的各个方面。\n",
      "</think>\n",
      "\n",
      "二分查找法（Binary Search）是一种高效的数据搜索算法，常用于查找有序数组中的目标值。它通过将数组分成两半，逐步缩小搜索范围，从而快速找到目标值。以下是二分查找法的详细步骤：\n",
      "\n",
      "1. **确定数组范围**：首先确定目标数组的起始索引（left）和结束索引（right）。初始时，left设置为0，right设置为数组的长度（n）。\n",
      "\n",
      "2. **计算中点**：计算数组中间的索引，通常使用公式 `mid = (left + right) // 2`。这个中点值将数组分成两半。\n",
      "\n",
      "3. **比较目标值与中点值**：\n",
      "   - 如果目标值等于中点值，直接返回当前索引。\n",
      "   - 如果目标值小于中点值，那么目标值只能在数组的左半部分（0到mid-1）。\n",
      "   - 如果目标值大于中点值，那么目标值只能在数组的右半部分（mid+1到n）。\n",
      "\n",
      "4. **调整数组范围**：根据比较结果，将left或right更新为新的范围，重复步骤2到4，直到找到目标值或数组为空。\n",
      "\n",
      "5. **查找失败**：如果在所有步骤中未找到目标值，则返回-1表示找不到目标值。\n",
      "\n",
      "**示例**：\n",
      "假设数组为：[1, 3, 5, 7, 9, 11, 13]\n",
      "目标值为7。\n",
      "\n",
      "- 初始：left=0, right=6\n",
      "- mid=(0+6)//2=3，比较7与5，7>5，所以right=4\n",
      "- left=0, right=4\n",
      "- mid=(0+4)//2=2，比较7与7，找到目标值，返回索引2。\n",
      "\n",
      "二分查找法的高效性主要体现在其平均时间复杂度为O(log n)，而最坏情况下也是如此。这种方法适用于需要快速查找有序数据的场景。\n"
     ]
    }
   ],
   "source": [
    "import torch\n",
    "from modelscope import AutoModelForCausalLM, AutoTokenizer\n",
    "\n",
    "model_name = \"/Users/zengguangyun/Desktop/data/大模型课程资料/autodl-tmp/models/deepseek-ai/DeepSeek-R1-Distill-Qwen-1.5B\"\n",
    "\n",
    "# 先确定用哪个设备\n",
    "device = torch.device(\"mps\") if torch.backends.mps.is_available() else torch.device(\"cpu\")\n",
    "\n",
    "# 加载模型（不传 device_map）\n",
    "model = AutoModelForCausalLM.from_pretrained(\n",
    "    model_name,\n",
    "    torch_dtype=\"auto\",\n",
    ")\n",
    "model.to(device)  # 搬到 MPS 或 CPU\n",
    "\n",
    "tokenizer = AutoTokenizer.from_pretrained(model_name)\n",
    "\n",
    "prompt = \"帮我写一个二分查找法\"\n",
    "messages = [\n",
    "    {\"role\": \"system\", \"content\": \"You are a helpful assistant.\"},\n",
    "    {\"role\": \"user\",   \"content\": prompt}\n",
    "]\n",
    "text = tokenizer.apply_chat_template(\n",
    "    messages,\n",
    "    tokenize=False,\n",
    "    add_generation_prompt=True\n",
    ")\n",
    "inputs = tokenizer([text], return_tensors=\"pt\").to(device)\n",
    "\n",
    "generated_ids = model.generate(\n",
    "    **inputs,\n",
    "    max_new_tokens=2000\n",
    ")\n",
    "# 切掉输入部分再解码\n",
    "response_ids = generated_ids[0][ inputs.input_ids.shape[-1]: ]\n",
    "print(tokenizer.decode(response_ids, skip_special_tokens=True))\n"
   ]
  },
  {
   "cell_type": "code",
   "execution_count": null,
   "id": "36558f03-d4ff-4e1e-8923-944ac2c4bf05",
   "metadata": {},
   "outputs": [],
   "source": []
  }
 ],
 "metadata": {
  "kernelspec": {
   "display_name": "deeplearning",
   "language": "python",
   "name": "deeplearning"
  },
  "language_info": {
   "codemirror_mode": {
    "name": "ipython",
    "version": 3
   },
   "file_extension": ".py",
   "mimetype": "text/x-python",
   "name": "python",
   "nbconvert_exporter": "python",
   "pygments_lexer": "ipython3",
   "version": "3.9.21"
  }
 },
 "nbformat": 4,
 "nbformat_minor": 5
}
